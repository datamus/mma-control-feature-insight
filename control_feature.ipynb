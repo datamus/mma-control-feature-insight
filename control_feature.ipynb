{
 "cells": [
  {
   "cell_type": "code",
   "execution_count": 1,
   "id": "b779acf5",
   "metadata": {},
   "outputs": [],
   "source": [
    "import pandas as pd\n",
    "import numpy as np\n",
    "from sklearn.model_selection import train_test_split, GridSearchCV\n",
    "from sklearn.linear_model import LogisticRegression\n",
    "from sklearn.ensemble import RandomForestClassifier, GradientBoostingClassifier\n",
    "from sklearn.svm import SVC\n",
    "from sklearn.neighbors import KNeighborsClassifier\n",
    "from sklearn.naive_bayes import GaussianNB\n",
    "from sklearn.neural_network import MLPClassifier\n",
    "from sklearn.metrics import accuracy_score\n",
    "import matplotlib.pyplot as plt\n",
    "import joblib"
   ]
  },
  {
   "cell_type": "code",
   "execution_count": 2,
   "id": "17799acc",
   "metadata": {},
   "outputs": [],
   "source": [
    "df = pd.read_csv('data.csv')"
   ]
  },
  {
   "cell_type": "code",
   "execution_count": 3,
   "id": "41be34af",
   "metadata": {},
   "outputs": [],
   "source": [
    "# Split data into training and test sets\n",
    "train_df = df.iloc[:-500]\n",
    "test_df = df.iloc[-500:]\n",
    "\n",
    "X_train = train_df[['CTRL_mean', 'CTRL against_mean']]\n",
    "y_train = train_df['OUTCOME']\n",
    "X_test = test_df[['CTRL_mean', 'CTRL against_mean']]\n",
    "y_test = test_df['OUTCOME']"
   ]
  },
  {
   "cell_type": "code",
   "execution_count": 4,
   "id": "5ec2749b",
   "metadata": {},
   "outputs": [],
   "source": [
    "# Initialise models and their hyperparameters with adjusted solvers and kernels\n",
    "models = {\n",
    "    \"Logistic Regression\": {\n",
    "        \"model\": LogisticRegression(),\n",
    "        \"params\": {\n",
    "            \"C\": [0.1, 1],\n",
    "            \"solver\": [\"saga\"]  # Using saga which can handle non-linear relationships\n",
    "        }\n",
    "    },\n",
    "    \"Random Forest\": {\n",
    "        \"model\": RandomForestClassifier(),\n",
    "        \"params\": {\n",
    "            \"n_estimators\": [50, 100],\n",
    "            \"max_depth\": [None, 10],\n",
    "            \"min_samples_split\": [2, 5]\n",
    "        }\n",
    "    },\n",
    "    \"Support Vector Machine\": {\n",
    "        \"model\": SVC(probability=True),\n",
    "        \"params\": {\n",
    "            \"C\": [0.1, 1],\n",
    "            \"kernel\": [\"rbf\", \"poly\"]  # Using non-linear kernels\n",
    "        }\n",
    "    },\n",
    "    \"K-Nearest Neighbors\": {\n",
    "        \"model\": KNeighborsClassifier(),\n",
    "        \"params\": {\n",
    "            \"n_neighbors\": [3, 5],\n",
    "            \"weights\": [\"uniform\"]\n",
    "        }\n",
    "    },\n",
    "    \"Gradient Boosting\": {\n",
    "        \"model\": GradientBoostingClassifier(),\n",
    "        \"params\": {\n",
    "            \"n_estimators\": [50, 100],\n",
    "            \"learning_rate\": [0.01, 0.1],\n",
    "            \"max_depth\": [3, 5]\n",
    "        }\n",
    "    },\n",
    "    \"Naive Bayes\": {\n",
    "        \"model\": GaussianNB(),\n",
    "        \"params\": {}\n",
    "    }\n",
    "}"
   ]
  },
  {
   "cell_type": "code",
   "execution_count": 5,
   "id": "d1baff57",
   "metadata": {},
   "outputs": [],
   "source": [
    "# Train and evaluate each model\n",
    "results = []\n",
    "for model_name, mp in models.items():\n",
    "    model = mp[\"model\"]\n",
    "    params = mp[\"params\"]\n",
    "    \n",
    "    best_model = model\n",
    "    if params:\n",
    "        # Manually set hyperparameters\n",
    "        best_params = {k: v[0] for k, v in params.items()}\n",
    "        best_model.set_params(**best_params)\n",
    "        \n",
    "    best_model.fit(X_train, y_train)\n",
    "    \n",
    "    # Predict on test set\n",
    "    y_pred = best_model.predict(X_test)\n",
    "    \n",
    "    # Calculate accuracy\n",
    "    accuracy = accuracy_score(y_test, y_pred)\n",
    "    results.append((model_name, accuracy, best_model))\n",
    "    \n",
    "    # Save the model\n",
    "    joblib.dump(best_model, f\"{model_name}_model.pkl\")"
   ]
  },
  {
   "cell_type": "code",
   "execution_count": 6,
   "id": "0c68e341",
   "metadata": {},
   "outputs": [
    {
     "data": {
      "image/png": "[encoded data removed]",
      "text/plain": [
       "<Figure size 720x432 with 1 Axes>"
      ]
     },
     "metadata": {
      "needs_background": "light"
     },
     "output_type": "display_data"
    },
    {
     "name": "stdout",
     "output_type": "stream",
     "text": [
      "                    Model  Accuracy\n",
      "0     Logistic Regression     0.544\n",
      "1           Random Forest     0.552\n",
      "2  Support Vector Machine     0.562\n",
      "3     K-Nearest Neighbors     0.548\n",
      "4       Gradient Boosting     0.556\n",
      "5             Naive Bayes     0.564\n"
     ]
    }
   ],
   "source": [
    "# Convert results to a DataFrame\n",
    "results_df = pd.DataFrame(results, columns=['Model', 'Accuracy', 'Best Model'])\n",
    "\n",
    "# Plot the results\n",
    "plt.figure(figsize=(10, 6))\n",
    "plt.bar(results_df['Model'], results_df['Accuracy'], color='skyblue')\n",
    "plt.xlabel('Model')\n",
    "plt.ylabel('Accuracy')\n",
    "plt.title('Model Comparison on UFC Fight Outcome Prediction')\n",
    "plt.xticks(rotation=45)\n",
    "plt.ylim(0, 1)\n",
    "plt.show()\n",
    "\n",
    "# Display results table\n",
    "print(results_df[['Model', 'Accuracy']])"
   ]
  },
  {
   "cell_type": "code",
   "execution_count": null,
   "id": "786a123e",
   "metadata": {},
   "outputs": [],
   "source": []
  }
 ],
 "metadata": {
  "kernelspec": {
   "display_name": "Python 3 (ipykernel)",
   "language": "python",
   "name": "python3"
  },
  "language_info": {
   "codemirror_mode": {
    "name": "ipython",
    "version": 3
   },
   "file_extension": ".py",
   "mimetype": "text/x-python",
   "name": "python",
   "nbconvert_exporter": "python",
   "pygments_lexer": "ipython3",
   "version": "3.9.12"
  }
 },
 "nbformat": 4,
 "nbformat_minor": 5
}
